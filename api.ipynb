{
 "cells": [
  {
   "cell_type": "code",
   "execution_count": 1,
   "metadata": {},
   "outputs": [],
   "source": [
    "push!(LOAD_PATH,\"./src\")\n",
    "using DensityMatrixModule\n",
    "using LinearAlgebra"
   ]
  },
  {
   "cell_type": "markdown",
   "metadata": {},
   "source": [
    "# Create a density matrix\n",
    "- Must provide at least the dimensions of the Hilbert space of each qudit as a 1D array of positive integers, as well as the method of constructing the density matrix.\n",
    "## Construct Methods:\n",
    "1. `method=random_rank`: $\\rho=U^{\\dagger}DU$. $D$ is a diagonal matrix with uniform random entries. $U$ is a random unitary tranformation chosen from the circular unitary ensemble.\n",
    "- - If `rank` is given, then that would be the rank of the density matrix."
   ]
  },
  {
   "cell_type": "code",
   "execution_count": null,
   "metadata": {},
   "outputs": [],
   "source": [
    "dm = construct_DensityMatrix( qdit_dimensions=[2,2,2] , method=random_rank, rank=5 )\n",
    "dm.rho"
   ]
  },
  {
   "cell_type": "markdown",
   "metadata": {},
   "source": [
    "2. `method=from_user`: must be positive-definite. Need not be normalized."
   ]
  },
  {
   "cell_type": "code",
   "execution_count": null,
   "metadata": {},
   "outputs": [],
   "source": [
    "total_dimension = 4\n",
    "matrix = rand(Complex{Float64},total_dimension,total_dimension)\n",
    "rho = matrix'*matrix\n",
    "dm = construct_DensityMatrix( rho=rho, qdit_dimensions=[2,2] , method=from_user );"
   ]
  },
  {
   "cell_type": "markdown",
   "metadata": {},
   "source": [
    "3. `method=from_eigvals`: given the diagonal entries of $D$, $\\rho=U^{\\dagger}DU$ where $U$ is a random unitary. Unless $U$ is provided."
   ]
  },
  {
   "cell_type": "code",
   "execution_count": null,
   "metadata": {},
   "outputs": [],
   "source": [
    "qdit_dimensions=[2,3,2]\n",
    "total_dimension = prod(qdit_dimensions)\n",
    "eigvals = rand(Float64,total_dimension)\n",
    "dm = construct_DensityMatrix( qdit_dimensions=qdit_dimensions, eigvals=eigvals , method=from_eigvals );\n",
    "dm.rho"
   ]
  },
  {
   "cell_type": "markdown",
   "metadata": {},
   "source": [
    "4. `method=random_pure`: $\\rho=| \\psi \\rangle \\langle \\psi|$ where the coefficients of $| \\psi \\rangle$ are chosen randomly from a normal distrubution."
   ]
  },
  {
   "cell_type": "code",
   "execution_count": null,
   "metadata": {},
   "outputs": [],
   "source": [
    "qdit_dimensions=[2,3,2]\n",
    "dm = construct_DensityMatrix( qdit_dimensions=qdit_dimensions, method=random_pure);\n",
    "dm.rho"
   ]
  },
  {
   "cell_type": "markdown",
   "metadata": {},
   "source": [
    "5. `method=from_user_pure`: $\\rho=| \\psi \\rangle \\langle \\psi|$ with $| \\psi \\rangle$ given by the user."
   ]
  },
  {
   "cell_type": "code",
   "execution_count": null,
   "metadata": {},
   "outputs": [],
   "source": [
    "qdit_dimensions=[2,3,2]\n",
    "total_dimension = prod(qdit_dimensions)\n",
    "psi = randn(total_dimension) + randn(total_dimension)*1im\n",
    "dm = construct_DensityMatrix( qdit_dimensions=qdit_dimensions, psi=psi , method=from_user_pure );\n",
    "dm.rho"
   ]
  },
  {
   "cell_type": "markdown",
   "metadata": {},
   "source": [
    "# Operations and Entanglement Measures"
   ]
  },
  {
   "cell_type": "code",
   "execution_count": 2,
   "metadata": {},
   "outputs": [
    {
     "name": "stderr",
     "output_type": "stream",
     "text": [
      "┌ Info: Precompiling DensityMatrixOps [top-level]\n",
      "└ @ Base loading.jl:1278\n"
     ]
    }
   ],
   "source": [
    "using DensityMatrixOps"
   ]
  },
  {
   "cell_type": "code",
   "execution_count": 3,
   "metadata": {},
   "outputs": [],
   "source": [
    "dm = construct_DensityMatrix( qdit_dimensions=[2,2,2] , method=random_rank, rank=5 );"
   ]
  },
  {
   "cell_type": "markdown",
   "metadata": {},
   "source": [
    "## Partial trace"
   ]
  },
  {
   "cell_type": "code",
   "execution_count": null,
   "metadata": {},
   "outputs": [],
   "source": [
    "# with respect to qdit index 3\n",
    "dm_12 = partial_trace(dm,[3])"
   ]
  },
  {
   "cell_type": "markdown",
   "metadata": {},
   "source": [
    "## Entropy"
   ]
  },
  {
   "cell_type": "code",
   "execution_count": null,
   "metadata": {},
   "outputs": [],
   "source": [
    "entr = entropy(dm_12.rho)"
   ]
  },
  {
   "cell_type": "markdown",
   "metadata": {},
   "source": [
    "## Negativity"
   ]
  },
  {
   "cell_type": "code",
   "execution_count": 4,
   "metadata": {},
   "outputs": [
    {
     "data": {
      "text/plain": [
       "0.25448837153941417"
      ]
     },
     "execution_count": 4,
     "metadata": {},
     "output_type": "execute_result"
    }
   ],
   "source": [
    "log_neg = log_negativity(dm,[3])"
   ]
  },
  {
   "cell_type": "code",
   "execution_count": null,
   "metadata": {},
   "outputs": [],
   "source": []
  }
 ],
 "metadata": {
  "kernelspec": {
   "display_name": "Julia 1.5.2",
   "language": "julia",
   "name": "julia-1.5"
  },
  "language_info": {
   "file_extension": ".jl",
   "mimetype": "application/julia",
   "name": "julia",
   "version": "1.5.3"
  }
 },
 "nbformat": 4,
 "nbformat_minor": 4
}
