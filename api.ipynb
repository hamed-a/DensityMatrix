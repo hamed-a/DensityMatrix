{
 "cells": [
  {
   "cell_type": "code",
   "execution_count": 5,
   "metadata": {},
   "outputs": [],
   "source": [
    "push!(LOAD_PATH,\"./src\")\n",
    "using DensityMatrixModule\n",
    "using LinearAlgebra"
   ]
  },
  {
   "cell_type": "code",
   "execution_count": 2,
   "metadata": {},
   "outputs": [
    {
     "data": {
      "text/plain": [
       "DensityMatrix(Complex{Float64}[0.09267101321691953 + 0.0im -0.04308963700253225 - 0.007630967958336252im … 0.005190368655629573 + 0.005647798778210226im -0.016811183993312766 + 0.006303605455610637im; -0.04308963700253225 + 0.007630967958336252im 0.12932792101815044 + 0.0im … 0.026828850856653534 - 0.002333454729455333im -0.02084865544552221 - 0.015447599856547542im; … ; 0.005190368655629573 - 0.005647798778210226im 0.026828850856653534 + 0.002333454729455333im … 0.10655331394396535 + 0.0im 0.0015454421024192787 - 0.002119644190602989im; -0.016811183993312766 - 0.006303605455610637im -0.02084865544552221 + 0.015447599856547542im … 0.0015454421024192787 + 0.002119644190602989im 0.11762701445051844 + 0.0im], 3, [2, 2, 2], 8, [1, 2, 4, 8])"
      ]
     },
     "execution_count": 2,
     "metadata": {},
     "output_type": "execute_result"
    }
   ],
   "source": [
    "dm = construct_DensityMatrix( qdit_dimensions=[2,2,2] , method=random_rank )"
   ]
  },
  {
   "cell_type": "code",
   "execution_count": null,
   "metadata": {},
   "outputs": [],
   "source": []
  }
 ],
 "metadata": {
  "kernelspec": {
   "display_name": "Julia 1.5.2",
   "language": "julia",
   "name": "julia-1.5"
  },
  "language_info": {
   "file_extension": ".jl",
   "mimetype": "application/julia",
   "name": "julia",
   "version": "1.5.3"
  }
 },
 "nbformat": 4,
 "nbformat_minor": 4
}
