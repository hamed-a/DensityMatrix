{
 "cells": [
  {
   "cell_type": "code",
   "execution_count": 1,
   "metadata": {},
   "outputs": [
    {
     "name": "stderr",
     "output_type": "stream",
     "text": [
      "┌ Info: Precompiling DensityMatrixModule [top-level]\n",
      "└ @ Base loading.jl:1278\n"
     ]
    }
   ],
   "source": [
    "push!(LOAD_PATH,\"./src\")\n",
    "using DensityMatrixModule\n",
    "using LinearAlgebra"
   ]
  },
  {
   "cell_type": "markdown",
   "metadata": {},
   "source": [
    "# Create a density matrix\n",
    "- Must provide at least the dimensions of the Hilbert space of each qudit as a 1D array of positive integers, as well as the method of constructing the density matrix.\n",
    "## Construct Methods:\n",
    "1. `method=random_rank`: $\\rho=U^{\\dagger}DU$. $D$ is a diagonal matrix with uniform random entries. $U$ is a random unitary tranformation chosen from the circular unitary ensemble.\n",
    "- - If `rank` is given, then that would be the rank of the density matrix."
   ]
  },
  {
   "cell_type": "code",
   "execution_count": null,
   "metadata": {},
   "outputs": [],
   "source": [
    "dm = construct_DensityMatrix( qdit_dimensions=[2,2,2] , method=random_rank, rank=5 )\n",
    "dm.rho"
   ]
  },
  {
   "cell_type": "markdown",
   "metadata": {},
   "source": [
    "2. `method=from_user`: must be positive-definite. Need not be normalized."
   ]
  },
  {
   "cell_type": "code",
   "execution_count": null,
   "metadata": {},
   "outputs": [],
   "source": [
    "total_dimension = 4\n",
    "matrix = rand(Complex{Float64},total_dimension,total_dimension)\n",
    "rho = matrix'*matrix\n",
    "dm = construct_DensityMatrix( rho=rho, qdit_dimensions=[2,2] , method=from_user );"
   ]
  },
  {
   "cell_type": "markdown",
   "metadata": {},
   "source": [
    "3. `method=from_eigvals`: given the diagonal entries of $D$, $\\rho=U^{\\dagger}DU$ where $U$ is a random unitary. Unless $U$ is provided."
   ]
  },
  {
   "cell_type": "code",
   "execution_count": 2,
   "metadata": {},
   "outputs": [
    {
     "data": {
      "text/plain": [
       "12×12 Array{Complex{Float64},2}:\n",
       "    0.582133-6.63385e-18im  …  -0.0843803-0.0504822im\n",
       "  -0.0363908+0.00776744im      -0.0373716+0.0660387im\n",
       "   0.0942504-0.0464494im        -0.044069+0.0582329im\n",
       "   0.0162081+0.0428079im       -0.0388841-0.0233309im\n",
       "  -0.0116737+0.0659624im       -0.0311328+0.122954im\n",
       " -0.00333149+0.0543135im    …   0.0321808-0.0286549im\n",
       " -0.00737075-0.0348351im       -0.0297217-0.0140314im\n",
       "  -0.0456787+0.0284998im       -0.0721109-0.00656734im\n",
       "   -0.019381-0.0958381im        0.0207936+0.00396557im\n",
       " -0.00729238+0.00902994im      -0.0473942-0.0524175im\n",
       "  -0.0342998-0.0348522im    …  -0.0238225+0.00943402im\n",
       "  -0.0843803+0.0504822im         0.467865+1.26548e-18im"
      ]
     },
     "execution_count": 2,
     "metadata": {},
     "output_type": "execute_result"
    }
   ],
   "source": [
    "qdit_dimensions=[2,3,2]\n",
    "total_dimension = prod(qdit_dimensions)\n",
    "eigvals = rand(Float64,total_dimension)\n",
    "dm = construct_DensityMatrix( qdit_dimensions=qdit_dimensions, eigvals=eigvals , method=from_eigvals );\n",
    "dm.rho"
   ]
  },
  {
   "cell_type": "markdown",
   "metadata": {},
   "source": [
    "4. `method=random_pure`: $\\rho=| \\psi \\rangle \\langle \\psi|$ where the coefficients of $| \\psi \\rangle$ are chosen randomly from a normal distrubution."
   ]
  },
  {
   "cell_type": "code",
   "execution_count": 3,
   "metadata": {},
   "outputs": [
    {
     "data": {
      "text/plain": [
       "12×12 Hermitian{Complex{Float64},Array{Complex{Float64},2}}:\n",
       "    0.136164+0.0im         …    0.110386+0.0893491im\n",
       "   0.0995016+0.047648im        0.0493987+0.103919im\n",
       "  0.00475849+0.0682831im      -0.0409489+0.0584787im\n",
       "  -0.0716824+0.0814894im       -0.111584+0.0190253im\n",
       "  -0.0359155-0.00925491im     -0.0230433-0.0310702im\n",
       " -0.00448504+0.0509005im   …  -0.0370363+0.0383213im\n",
       "   -0.131374+0.0115416im       -0.114076-0.0768491im\n",
       " -0.00202928-0.101689im        0.0650823-0.0837699im\n",
       "   0.0800369-0.106357im         0.134675-0.0337034im\n",
       "   0.0245226+0.134881im       -0.0686272+0.125438im\n",
       "  -0.0203307+0.0130676im   …  -0.0250567-0.00274701im\n",
       "    0.110386-0.0893491im        0.148119+0.0im"
      ]
     },
     "execution_count": 3,
     "metadata": {},
     "output_type": "execute_result"
    }
   ],
   "source": [
    "qdit_dimensions=[2,3,2]\n",
    "dm = construct_DensityMatrix( qdit_dimensions=qdit_dimensions, method=random_pure);\n",
    "dm.rho"
   ]
  },
  {
   "cell_type": "markdown",
   "metadata": {},
   "source": [
    "5. `method=from_user_pure`: $\\rho=| \\psi \\rangle \\langle \\psi|$ with $| \\psi \\rangle$ given by the user."
   ]
  },
  {
   "cell_type": "code",
   "execution_count": 4,
   "metadata": {},
   "outputs": [
    {
     "data": {
      "text/plain": [
       "12×12 Hermitian{Complex{Float64},Array{Complex{Float64},2}}:\n",
       "    0.0553467+0.0im         …   -0.0625065+0.0190903im\n",
       "   -0.0209359+0.0133096im        0.0190535-0.0222527im\n",
       "   0.00739169+0.0937974im       -0.0407008-0.103382im\n",
       " -0.000788623-0.0200254im       0.00779785+0.0223439im\n",
       "     -0.11088+0.0235177im         0.117113-0.0648052im\n",
       "    0.0352813+0.0125084im   …   -0.0441598-0.00195724im\n",
       "    0.0256693+0.00622595im      -0.0311375+0.00182256im\n",
       "   -0.0109155-0.0552426im         0.031382+0.058624im\n",
       "    0.0662026+0.0940202im        -0.107197-0.0833482im\n",
       "    0.0456717+0.0350334im       -0.0636638-0.0238122im\n",
       "    0.0169502-0.0565838im   …  0.000374051+0.0697502im\n",
       "   -0.0625065-0.0190903im        0.0771773+0.0im"
      ]
     },
     "execution_count": 4,
     "metadata": {},
     "output_type": "execute_result"
    }
   ],
   "source": [
    "qdit_dimensions=[2,3,2]\n",
    "total_dimension = prod(qdit_dimensions)\n",
    "psi = randn(total_dimension) + randn(total_dimension)*1im\n",
    "dm = construct_DensityMatrix( qdit_dimensions=qdit_dimensions, psi=psi , method=from_user_pure );\n",
    "dm.rho"
   ]
  },
  {
   "cell_type": "code",
   "execution_count": null,
   "metadata": {},
   "outputs": [],
   "source": []
  }
 ],
 "metadata": {
  "kernelspec": {
   "display_name": "Julia 1.5.2",
   "language": "julia",
   "name": "julia-1.5"
  },
  "language_info": {
   "file_extension": ".jl",
   "mimetype": "application/julia",
   "name": "julia",
   "version": "1.5.3"
  }
 },
 "nbformat": 4,
 "nbformat_minor": 4
}
